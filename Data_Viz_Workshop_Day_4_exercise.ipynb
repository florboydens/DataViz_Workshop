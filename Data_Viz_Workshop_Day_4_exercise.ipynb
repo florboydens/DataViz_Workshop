About the dataset
Heart Disease Dataset- https://www.kaggle.com/datasets/redwankarimsony/heart-disease-data

The Heart Disease Dataset is used to solve the problem of classifying whether a patient will have heart disease or not, which is a Binary Classification problem. The data used for this assignment is obtained from Kaggle. This dataset is a processed version of the actual Cleveland database data obtained from UCI Datasets. This problem and the dataset are interesting because the dataset has multiple feature attributes (13 feature attributes) and each of these features are of different types (combination of continuous and categorical values) and the scale of the continuous values are completely different and it will be interesting to see how the Machine Learning algorithms perform on this. Also, the number of records is limited (around 303 records) and there are some outliers observed within the data. So, it will be really interesting to see how our Machine Learning Algorithms can be used to generalize on such a limited dataset with noise. And finally predicting heart disease can have real life use case and application, so that’s why I felt this would be a good problem to investigate.

Data Description
age (Age of the patient in years)
gender (Male/Female)
chest_pain_type : chest pain type ([typical angina, atypical angina, non-anginal, asymptomatic])
resting_bp : resting blood pressure (resting blood pressure (in mm Hg on admission to the hospital))
cholestoral (serum cholesterol in mg/dl)
fasting_blood_sugar (if fasting blood sugar > 120 mg/dl)
restecg (resting electrocardiographic results) -> Values: [normal, stt abnormality, lv hypertrophy]
max_hr: maximum heart rate achieved
exang: exercise-induced angina (True/ False)
oldpeak: ST depression induced by exercise relative to rest
slope: the slope of the peak exercise ST segment
num_major_vessels: number of major vessels (0-3) colored by fluoroscopy
thal: [normal; fixed defect; reversible defect]
num: the predicted attribute
